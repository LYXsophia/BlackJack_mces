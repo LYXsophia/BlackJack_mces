{
 "cells": [
  {
   "cell_type": "code",
   "execution_count": 46,
   "id": "93df2225",
   "metadata": {},
   "outputs": [],
   "source": [
    "import numpy as np\n",
    "import random\n",
    "# np.random.seed(20)\n",
    "# random.seed(20)\n",
    "import math\n",
    "import matplotlib.pyplot as  plt\n"
   ]
  },
  {
   "cell_type": "code",
   "execution_count": 47,
   "id": "48f8690c",
   "metadata": {},
   "outputs": [],
   "source": [
    "\n",
    "def get_card():\n",
    "    # card = random.choice(range(1,14))\n",
    "    # card = min(card, 10)\n",
    "    # if card == 1:\n",
    "    #     card = 11\n",
    "    card = random.choices(range(2, 12), weights=[1 / 13] * 8 + [4 / 13] + [1 / 13])[0]\n",
    "    return card\n"
   ]
  },
  {
   "cell_type": "code",
   "execution_count": 48,
   "id": "1574adca",
   "metadata": {},
   "outputs": [],
   "source": [
    "\n",
    "\n",
    "def play_1turn(player_sum,dealer_card1):\n",
    "    global state_value_pair\n",
    "    player_hist_state = []\n",
    "    # action = policy[player_sum - 11, dealer_card1 - 2]\n",
    "    # state = (player_sum, dealer_card1, action)\n",
    "    # player_hist_state = [state]\n",
    "    #\n",
    "    # if player_sum == 21:\n",
    "    #     action = ACTION_STICK\n",
    "    # while action:\n",
    "    #     card = get_card()\n",
    "    #     player_sum += card\n",
    "    #     if player_sum > 21:\n",
    "    #         break\n",
    "    #     state = (player_sum,dealer_card1,action)\n",
    "    #     player_hist_state.append(state)\n",
    "    #     action = policy[player_sum - 11, dealer_card1 - 2]\n",
    "\n",
    "    while True:\n",
    "        action = policy[player_sum - 11,dealer_card1 - 2]\n",
    "        state = (player_sum,dealer_card1,action)\n",
    "        player_hist_state.append(state)\n",
    "\n",
    "        if not action:\n",
    "            break\n",
    "        card = get_card()\n",
    "        player_sum += card\n",
    "\n",
    "        if player_sum > 21:\n",
    "            return state, -1, player_hist_state\n",
    "\n",
    "\n",
    "    dealer_card2 = get_card()\n",
    "    dealer_sum = dealer_card1 + dealer_card2\n",
    "\n",
    "    while dealer_sum < 18:\n",
    "        card = get_card()\n",
    "        dealer_sum += card\n",
    "\n",
    "    if player_sum > 21:\n",
    "        return state,-1,player_hist_state\n",
    "    if dealer_sum == player_sum:\n",
    "        reward = 0\n",
    "    # elif (dealer_sum > 21) or (player_sum > dealer_sum):\n",
    "    elif dealer_sum > 21 or player_sum > dealer_sum:\n",
    "        reward = 1\n",
    "    elif player_sum < dealer_sum:\n",
    "        reward = -1\n",
    "    return state,reward,player_hist_state\n",
    "\n"
   ]
  },
  {
   "cell_type": "code",
   "execution_count": 49,
   "id": "c1eec37e",
   "metadata": {},
   "outputs": [
    {
     "name": "stderr",
     "output_type": "stream",
     "text": [
      "  0%|          | 0/1000000 [00:00<?, ?it/s]<ipython-input-49-3bd6121abdfd>:39: RuntimeWarning: invalid value encountered in double_scalars\n",
      "  [c * math.sqrt(math.log(_) / state_value_pair[(player_sum - 11, dealer_card1 - 2, a)]) for a in (0, 1)]))\n",
      "<ipython-input-49-3bd6121abdfd>:39: RuntimeWarning: divide by zero encountered in double_scalars\n",
      "  [c * math.sqrt(math.log(_) / state_value_pair[(player_sum - 11, dealer_card1 - 2, a)]) for a in (0, 1)]))\n",
      "100%|██████████| 1000000/1000000 [01:51<00:00, 8967.31it/s]\n"
     ]
    }
   ],
   "source": [
    "gamma = 1\n",
    "policy = np.zeros((11,10))\n",
    "state_action_value = np.zeros((11,10,2))\n",
    "Return = {}\n",
    "state_value_pair = np.zeros((11,10,2))\n",
    "ACTION_STICK = int(0)\n",
    "ACTION_HIT = int(1)\n",
    "EPISODE = 1000000\n",
    "\n",
    "\n",
    "for i in range(11):\n",
    "    for j in range(10):\n",
    "        policy[i, j] = random.choice([ACTION_HIT,ACTION_STICK])\n",
    "\n",
    "c = 2\n",
    "from tqdm import tqdm\n",
    "for _ in tqdm(range(1,EPISODE+1)):\n",
    "    player_sum = random.choice(range(11, 22))\n",
    "    dealer_card1 = get_card()\n",
    "    # dealer_card1 = np.random.choice(range(2, 12))\n",
    "    cur_state, cur_reward,player_trajectory = play_1turn(player_sum, dealer_card1)\n",
    "\n",
    "    G = 0\n",
    "    for ix in range(len(player_trajectory)-1,-1,-1):\n",
    "        his_state = player_trajectory[ix]\n",
    "        if his_state == cur_state:\n",
    "            reward = cur_reward\n",
    "        else:\n",
    "            reward = 0\n",
    "        G = gamma * G + reward\n",
    "        if his_state in player_trajectory[:ix]:\n",
    "            continue\n",
    "        player_sum, dealer_card1, action = his_state\n",
    "        Return.setdefault(his_state,[]).append(G)\n",
    "        state_value_pair[player_sum - 11,dealer_card1 - 2,int(action)] += 1\n",
    "        state_action_value[(player_sum - 11),dealer_card1 - 2,int(action)] = sum(Return[his_state])/len(Return[his_state])\n",
    "        Q = state_action_value[(player_sum - 11),dealer_card1 - 2,int(action)]\n",
    "        policy[player_sum - 11, dealer_card1 - 2] = np.argmax(state_action_value[(player_sum - 11),dealer_card1 - 2,:] + np.array(\\\n",
    "            [c * math.sqrt(math.log(_) / state_value_pair[(player_sum - 11, dealer_card1 - 2, a)]) for a in (0, 1)]))\n",
    "        # epsilon = np.random.random()\n",
    "        # if epsilon > 0.1:\n",
    "        #     policy[player_sum - 11,dealer_card1 - 2] = np.argmax(Q + np.array([c * math.sqrt(math.log(_)/state_value_pair[(player_sum - 12,dealer_card1 - 1,a)]) for a in (0,1)]))\n",
    "        # else:\n",
    "        #     policy[player_sum - 11,dealer_card1 - 2] = np.random.choice(range(0,1))\n",
    "        #\n"
   ]
  },
  {
   "cell_type": "code",
   "execution_count": 51,
   "id": "eeb8a49c",
   "metadata": {},
   "outputs": [
    {
     "data": {
      "image/png": "[encoded data removed]",
      "text/plain": [
       "<Figure size 432x288 with 2 Axes>"
      ]
     },
     "metadata": {
      "needs_background": "light"
     },
     "output_type": "display_data"
    }
   ],
   "source": [
    "import pandas as pd\n",
    "policy_df = pd.DataFrame(policy.T,columns=[i for i in  range(11, 22)],index=[i for i in range(2,12)])\n",
    "import seaborn as sns\n",
    "ax = sns.heatmap(policy_df, cmap='RdBu')\n",
    "ax.invert_yaxis()\n",
    "plt.savefig('UCB.png')\n",
    "plt.show()\n",
    "\n"
   ]
  }
 ],
 "metadata": {
  "kernelspec": {
   "display_name": "Python 3",
   "language": "python",
   "name": "python3"
  },
  "language_info": {
   "codemirror_mode": {
    "name": "ipython",
    "version": 3
   },
   "file_extension": ".py",
   "mimetype": "text/x-python",
   "name": "python",
   "nbconvert_exporter": "python",
   "pygments_lexer": "ipython3",
   "version": "3.8.8"
  }
 },
 "nbformat": 4,
 "nbformat_minor": 5
}
