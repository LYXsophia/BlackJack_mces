{
 "cells": [
  {
   "cell_type": "code",
   "execution_count": 54,
   "id": "3dd39eb8",
   "metadata": {},
   "outputs": [],
   "source": [
    "import numpy as np\n",
    "import random\n",
    "# np.random.seed(20)\n",
    "random.seed(20)\n",
    "import math\n",
    "import matplotlib.pyplot as  plt"
   ]
  },
  {
   "cell_type": "code",
   "execution_count": 164,
   "id": "e8f9b2dd",
   "metadata": {},
   "outputs": [],
   "source": [
    "def get_card():\n",
    "#     card = random.choice(range(1,14))\n",
    "#     card = min(card, 10)\n",
    "#     if card == 1:\n",
    "#         card = 11\n",
    "    card = random.choices(range(2, 12), weights=[1 / 13] * 8 + [4 / 13] + [1 / 13])[0]\n",
    "    return card\n"
   ]
  },
  {
   "cell_type": "code",
   "execution_count": 178,
   "id": "6cb8b315",
   "metadata": {},
   "outputs": [],
   "source": [
    "\n",
    "def play_1turn(player_sum,dealer_card1):\n",
    "    global state_value_pair\n",
    "    global ACTION_STICK,ACTION_HIT,policy\n",
    "    player_hist_state = []\n",
    "    # action = policy[player_sum - 11, dealer_card1 - 2]\n",
    "    # state = (player_sum, dealer_card1, action)\n",
    "    # player_hist_state = [state]\n",
    "    #\n",
    "    # if player_sum == 21:\n",
    "    #     action = ACTION_STICK\n",
    "    # while action:\n",
    "    #     card = get_card()\n",
    "    #     player_sum += card\n",
    "    #     if player_sum > 21:\n",
    "    #         break\n",
    "    #     state = (player_sum,dealer_card1,action)\n",
    "    #     player_hist_state.append(state)\n",
    "    #     action = policy[player_sum - 11, dealer_card1 - 2]\n",
    "    action = random.choice([ACTION_STICK,ACTION_HIT])\n",
    "    state = (player_sum,dealer_card1,action)\n",
    "    player_hist_state.append(state)\n",
    "    while action:\n",
    "        card = get_card()\n",
    "        player_sum += card\n",
    "        \n",
    "        if player_sum > 21:\n",
    "            return state, -1, player_hist_state\n",
    "        \n",
    "        state = (player_sum,dealer_card1,action)\n",
    "        player_hist_state.append(state)\n",
    "        action = policy[player_sum - 11,dealer_card1 - 2]\n",
    "\n",
    "\n",
    "\n",
    "\n",
    "\n",
    "\n",
    "#     dealer_card2 = get_card()\n",
    "#     dealer_sum = dealer_card1 + dealer_card2\n",
    "    dealer_sum = dealer_card1\n",
    "\n",
    "    while dealer_sum < 18:\n",
    "        card = get_card()\n",
    "        dealer_sum += card\n",
    "\n",
    "    if player_sum > 21:\n",
    "        return state,-1,player_hist_state\n",
    "    \n",
    "    elif dealer_sum == player_sum:\n",
    "        reward = 0\n",
    "    # elif (dealer_sum > 21) or (player_sum > dealer_sum):\n",
    "    elif dealer_sum > 21 or player_sum > dealer_sum:\n",
    "        reward = 1\n",
    "    elif player_sum < dealer_sum:\n",
    "        reward = -1\n",
    "    return state,reward,player_hist_state\n"
   ]
  },
  {
   "cell_type": "code",
   "execution_count": 179,
   "id": "3f6f3ff7",
   "metadata": {},
   "outputs": [],
   "source": [
    "\n",
    "gamma = 1\n",
    "policy = np.zeros((11,10))\n",
    "state_action_value = np.zeros((11,10,2))\n",
    "Return = {}\n",
    "state_value_pair = np.zeros((11,10,2))\n",
    "ACTION_STICK = int(0)\n",
    "ACTION_HIT = int(1)\n",
    "EPISODE = 100000\n",
    "\n",
    "for i in range(11):\n",
    "    for j in range(10):\n",
    "        policy[i, j] = random.choice([ACTION_HIT,ACTION_STICK])\n"
   ]
  },
  {
   "cell_type": "code",
   "execution_count": 180,
   "id": "32881a7b",
   "metadata": {},
   "outputs": [
    {
     "name": "stderr",
     "output_type": "stream",
     "text": [
      "100%|██████████| 100000/100000 [00:08<00:00, 12403.18it/s]\n"
     ]
    }
   ],
   "source": [
    "\n",
    "'''Black Jack of MCES '''\n",
    "from tqdm import tqdm\n",
    "for _ in tqdm(range(EPISODE)):\n",
    "    # player_sum = np.random.choice(range(11, 22))\n",
    "    # dealer_card1 = get_card()\n",
    "    player_sum,dealer_card1 = random.choice([(s1, s2) for s1 in range(11, 22) for s2 in range(2, 12)])\n",
    "    # dealer_card1 = np.random.choice(range(2, 12))\n",
    "    cur_state, cur_reward,player_trajectory = play_1turn(player_sum, dealer_card1)\n",
    "    G = 0\n",
    "    for ix in range(len(player_trajectory)-1,-1,-1):\n",
    "\n",
    "        his_state = player_trajectory[ix]\n",
    "        if his_state == cur_state:\n",
    "            reward = cur_reward\n",
    "        else:\n",
    "            reward = 0\n",
    "        G = gamma * G + reward\n",
    "        if his_state in player_trajectory[:ix]:\n",
    "            continue\n",
    "        player_sum, dealer_card1, action = his_state\n",
    "        Return.setdefault(his_state,[]).append(G)\n",
    "        state_action_value[(player_sum - 11),dealer_card1 - 2,int(action)] = np.mean(Return[his_state])\n",
    "        policy[player_sum - 11,dealer_card1 - 2] = np.argmax(state_action_value[player_sum - 11,dealer_card1 - 2,:])\n"
   ]
  },
  {
   "cell_type": "code",
   "execution_count": 182,
   "id": "7d38cd2d",
   "metadata": {},
   "outputs": [
    {
     "data": {
      "image/png": "[encoded data removed]",
      "text/plain": [
       "<Figure size 432x288 with 2 Axes>"
      ]
     },
     "metadata": {
      "needs_background": "light"
     },
     "output_type": "display_data"
    }
   ],
   "source": [
    "import pandas as pd\n",
    "policy_df = pd.DataFrame(policy.T,columns=[i for i in  range(11, 22)],index=[i for i in range(2,12)])\n",
    "import seaborn as sns\n",
    "ax = sns.heatmap(policy_df, cmap='RdBu')\n",
    "ax.invert_yaxis()\n",
    "\n",
    "plt.savefig('MCES.png')\n",
    "plt.title('policy for MCES')\n",
    "plt.show()"
   ]
  }
 ],
 "metadata": {
  "kernelspec": {
   "display_name": "Python 3",
   "language": "python",
   "name": "python3"
  },
  "language_info": {
   "codemirror_mode": {
    "name": "ipython",
    "version": 3
   },
   "file_extension": ".py",
   "mimetype": "text/x-python",
   "name": "python",
   "nbconvert_exporter": "python",
   "pygments_lexer": "ipython3",
   "version": "3.8.8"
  }
 },
 "nbformat": 4,
 "nbformat_minor": 5
}
